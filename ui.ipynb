{
 "cells": [
  {
   "cell_type": "code",
   "execution_count": 3,
   "metadata": {},
   "outputs": [],
   "source": [
    "import ipywidgets as widgets"
   ]
  },
  {
   "cell_type": "code",
   "execution_count": 4,
   "metadata": {},
   "outputs": [
    {
     "data": {
      "application/vnd.jupyter.widget-view+json": {
       "model_id": "77b8353e9b264f53b8a514f4a06bba81",
       "version_major": 2,
       "version_minor": 0
      },
      "text/plain": [
       "IntSlider(value=40, max=70, min=30)"
      ]
     },
     "metadata": {},
     "output_type": "display_data"
    }
   ],
   "source": [
    "w = widgets.IntSlider(40,30,70)\n",
    "display(w)"
   ]
  },
  {
   "cell_type": "code",
   "execution_count": 7,
   "metadata": {},
   "outputs": [
    {
     "name": "stdout",
     "output_type": "stream",
     "text": [
      "48\n"
     ]
    }
   ],
   "source": [
    "print(w.value)"
   ]
  },
  {
   "cell_type": "code",
   "execution_count": 10,
   "metadata": {},
   "outputs": [
    {
     "data": {
      "application/vnd.jupyter.widget-view+json": {
       "model_id": "f1aace0e776e49b59418992798a18d4d",
       "version_major": 2,
       "version_minor": 0
      },
      "text/plain": [
       "FloatSlider(value=7.5, description='Test', max=10.0, min=5.0)"
      ]
     },
     "metadata": {},
     "output_type": "display_data"
    },
    {
     "data": {
      "text/plain": [
       "7.5"
      ]
     },
     "execution_count": 10,
     "metadata": {},
     "output_type": "execute_result"
    }
   ],
   "source": [
    "j = widgets.FloatSlider(value = 7.5, min=5.0, max=10, step=0.1, description= 'Test' )\n",
    "display(j)\n",
    "j.value\n"
   ]
  },
  {
   "cell_type": "code",
   "execution_count": 14,
   "metadata": {},
   "outputs": [
    {
     "data": {
      "application/vnd.jupyter.widget-view+json": {
       "model_id": "9b832c1611724391a47f9b94447b0b24",
       "version_major": 2,
       "version_minor": 0
      },
      "text/plain": [
       "FloatSlider(value=3.0, description='Table_3', max=33.0, min=3.0, orientation='vertical', step=3.0)"
      ]
     },
     "metadata": {},
     "output_type": "display_data"
    }
   ],
   "source": [
    " S = widgets.FloatSlider( min=3, max=33, step=3, description= 'Table_3' , orientation='vertical')\n",
    "display(S)"
   ]
  },
  {
   "cell_type": "code",
   "execution_count": 19,
   "metadata": {},
   "outputs": [
    {
     "data": {
      "application/vnd.jupyter.widget-view+json": {
       "model_id": "01ee545ff9cb4ce596b70547202924e0",
       "version_major": 2,
       "version_minor": 0
      },
      "text/plain": [
       "FloatProgress(value=21.0, description='Table_3  Loading...', max=33.0, min=3.0)"
      ]
     },
     "metadata": {},
     "output_type": "display_data"
    }
   ],
   "source": [
    " L = widgets.FloatProgress(value=21, min=3, max=33, step=3, description= 'Table_3  Loading...' , )\n",
    "display(L)"
   ]
  },
  {
   "cell_type": "code",
   "execution_count": 21,
   "metadata": {},
   "outputs": [
    {
     "data": {
      "application/vnd.jupyter.widget-view+json": {
       "model_id": "764d8100abee4671b39d8b57d04560d6",
       "version_major": 2,
       "version_minor": 0
      },
      "text/plain": [
       "interactive(children=(FloatSlider(value=0.0, description='x'), IntSlider(value=0, description='y'), Output()),…"
      ]
     },
     "metadata": {},
     "output_type": "display_data"
    },
    {
     "data": {
      "text/plain": [
       "<function __main__.f(x, y)>"
      ]
     },
     "execution_count": 21,
     "metadata": {},
     "output_type": "execute_result"
    }
   ],
   "source": [
    "def f(x,y):\n",
    "    print(x+y)\n",
    "widgets.interact(f,x=widgets.FloatSlider(),y=widgets.IntSlider())"
   ]
  },
  {
   "cell_type": "code",
   "execution_count": 23,
   "metadata": {},
   "outputs": [
    {
     "data": {
      "application/vnd.jupyter.widget-view+json": {
       "model_id": "9a35ff2a0a8d487b9680a112f739d12b",
       "version_major": 2,
       "version_minor": 0
      },
      "text/plain": [
       "interactive(children=(IntSlider(value=0, description='x'), IntSlider(value=0, description='y'), IntSlider(valu…"
      ]
     },
     "metadata": {},
     "output_type": "display_data"
    },
    {
     "data": {
      "text/plain": [
       "<function __main__.s(x, y, z)>"
      ]
     },
     "execution_count": 23,
     "metadata": {},
     "output_type": "execute_result"
    }
   ],
   "source": [
    "def s(x,y,z):\n",
    "    print(x**2+y**2+z**2)\n",
    "widgets.interact(s,x=widgets.IntSlider(),y=widgets.IntSlider(),z=widgets.IntSlider())"
   ]
  },
  {
   "cell_type": "code",
   "execution_count": 28,
   "metadata": {},
   "outputs": [
    {
     "data": {
      "application/vnd.jupyter.widget-view+json": {
       "model_id": "5d236eee2ec2451baad1089da6ad232c",
       "version_major": 2,
       "version_minor": 0
      },
      "text/plain": [
       "IntSlider(value=0)"
      ]
     },
     "metadata": {},
     "output_type": "display_data"
    },
    {
     "data": {
      "application/vnd.jupyter.widget-view+json": {
       "model_id": "3889b7be867f446f862966f00c019a8e",
       "version_major": 2,
       "version_minor": 0
      },
      "text/plain": [
       "FloatSlider(value=0.0)"
      ]
     },
     "metadata": {},
     "output_type": "display_data"
    },
    {
     "data": {
      "application/vnd.jupyter.widget-view+json": {
       "model_id": "ce4d4368957248c1bffeb8f016946078",
       "version_major": 2,
       "version_minor": 0
      },
      "text/plain": [
       "Button(description='Submit', style=ButtonStyle())"
      ]
     },
     "metadata": {},
     "output_type": "display_data"
    },
    {
     "data": {
      "application/vnd.jupyter.widget-view+json": {
       "model_id": "74348d46cf6545e4a0d70d2531b7e15b",
       "version_major": 2,
       "version_minor": 0
      },
      "text/plain": [
       "interactive(children=(IntSlider(value=0, description='x'), FloatSlider(value=0.0, description='y'), Output()),…"
      ]
     },
     "metadata": {},
     "output_type": "display_data"
    }
   ],
   "source": [
    "def f(x,y):\n",
    "    print(x+y)\n",
    "x=widgets.IntSlider()\n",
    "y=widgets.FloatSlider()\n",
    "h=widgets.Button(description='Submit')\n",
    "def inet(self):\n",
    "    widgets.interact(f,x=x,y=y)\n",
    "h.on_click(inet)\n",
    "display(x)\n",
    "display(y)\n",
    "display(h)"
   ]
  },
  {
   "cell_type": "code",
   "execution_count": 56,
   "metadata": {},
   "outputs": [
    {
     "data": {
      "application/vnd.jupyter.widget-view+json": {
       "model_id": "b2d0d8083736495398be400309e74d0e",
       "version_major": 2,
       "version_minor": 0
      },
      "text/plain": [
       "Text(value='', description='Name')"
      ]
     },
     "metadata": {},
     "output_type": "display_data"
    },
    {
     "data": {
      "application/vnd.jupyter.widget-view+json": {
       "model_id": "e908106974034cf4afe120c5378ce735",
       "version_major": 2,
       "version_minor": 0
      },
      "text/plain": [
       "Button(description='Greet', style=ButtonStyle())"
      ]
     },
     "metadata": {},
     "output_type": "display_data"
    },
    {
     "name": "stdout",
     "output_type": "stream",
     "text": [
      "Hellohi\n"
     ]
    }
   ],
   "source": [
    "y=widgets.Text(description='Name')\n",
    "def greet(self):\n",
    "    print(\"Hello\"+str(y.value))\n",
    "h=widgets.Button(description=\"Greet\",)\n",
    "display(y)\n",
    "display(h)\n",
    "h.on_click(greet)"
   ]
  },
  {
   "cell_type": "code",
   "execution_count": 43,
   "metadata": {},
   "outputs": [
    {
     "data": {
      "application/vnd.jupyter.widget-view+json": {
       "model_id": "b0b397e1099a48aeaab8d126e97a98c0",
       "version_major": 2,
       "version_minor": 0
      },
      "text/plain": [
       "FloatSlider(value=0.1)"
      ]
     },
     "metadata": {},
     "output_type": "display_data"
    },
    {
     "data": {
      "application/vnd.jupyter.widget-view+json": {
       "model_id": "5b7e5813b8e6401195d21107a32a4e44",
       "version_major": 2,
       "version_minor": 0
      },
      "text/plain": [
       "FloatSlider(value=0.2)"
      ]
     },
     "metadata": {},
     "output_type": "display_data"
    },
    {
     "data": {
      "application/vnd.jupyter.widget-view+json": {
       "model_id": "4e1b18ee63a245c0900850a84ab8fe76",
       "version_major": 2,
       "version_minor": 0
      },
      "text/plain": [
       "FloatSlider(value=0.3)"
      ]
     },
     "metadata": {},
     "output_type": "display_data"
    },
    {
     "data": {
      "application/vnd.jupyter.widget-view+json": {
       "model_id": "21ad5d4c02734f328454cf80c2468118",
       "version_major": 2,
       "version_minor": 0
      },
      "text/plain": [
       "Button(description='Submit', style=ButtonStyle())"
      ]
     },
     "metadata": {},
     "output_type": "display_data"
    },
    {
     "name": "stdout",
     "output_type": "stream",
     "text": [
      "80.49000000000001\n"
     ]
    }
   ],
   "source": [
    "x=widgets.FloatSlider(value=0.1)\n",
    "y=widgets.FloatSlider(value=0.2)\n",
    "z=widgets.FloatSlider(value=0.3)\n",
    "k=widgets.Button(description='Submit')\n",
    "def eql(self):\n",
    "    print(2*y.value+(8/x.value)+z.value**2)\n",
    "display(x)\n",
    "display(y)\n",
    "display(z)\n",
    "display(k)\n",
    "k.on_click(eql)\n"
   ]
  },
  {
   "cell_type": "code",
   "execution_count": 48,
   "metadata": {},
   "outputs": [
    {
     "data": {
      "application/vnd.jupyter.widget-view+json": {
       "model_id": "f002b3d40afe444a9acb96acaf752758",
       "version_major": 2,
       "version_minor": 0
      },
      "text/plain": [
       "IntSlider(value=0)"
      ]
     },
     "metadata": {},
     "output_type": "display_data"
    },
    {
     "data": {
      "application/vnd.jupyter.widget-view+json": {
       "model_id": "d87d7b9b4afe49a792ad7a764b77669d",
       "version_major": 2,
       "version_minor": 0
      },
      "text/plain": [
       "IntSlider(value=0)"
      ]
     },
     "metadata": {},
     "output_type": "display_data"
    },
    {
     "data": {
      "application/vnd.jupyter.widget-view+json": {
       "model_id": "7a7ca25ae88c416c88a62f513e52b517",
       "version_major": 2,
       "version_minor": 0
      },
      "text/plain": [
       "IntSlider(value=0)"
      ]
     },
     "metadata": {},
     "output_type": "display_data"
    },
    {
     "data": {
      "application/vnd.jupyter.widget-view+json": {
       "model_id": "d9d3bdf55148405a98c8ae76c1e10ec4",
       "version_major": 2,
       "version_minor": 0
      },
      "text/plain": [
       "FloatSlider(value=0.3)"
      ]
     },
     "metadata": {},
     "output_type": "display_data"
    },
    {
     "data": {
      "application/vnd.jupyter.widget-view+json": {
       "model_id": "2814b55ad1e54fbe98d05bf5b75080fb",
       "version_major": 2,
       "version_minor": 0
      },
      "text/plain": [
       "Button(description='Submit', style=ButtonStyle())"
      ]
     },
     "metadata": {},
     "output_type": "display_data"
    },
    {
     "name": "stdout",
     "output_type": "stream",
     "text": [
      "11.111111111111112\n"
     ]
    }
   ],
   "source": [
    "a=widgets.IntSlider()\n",
    "b=widgets.IntSlider()\n",
    "c=widgets.IntSlider()\n",
    "e=widgets.Button(description='Submit')\n",
    "def add(self):\n",
    "    print(a.value**3+b.value**2+c.value**4+z.value**-2)\n",
    "display(a)\n",
    "display(b)\n",
    "display(c)\n",
    "display(z)\n",
    "display(e)\n",
    "e.on_click(add)\n"
   ]
  },
  {
   "cell_type": "code",
   "execution_count": 49,
   "metadata": {},
   "outputs": [
    {
     "data": {
      "application/vnd.jupyter.widget-view+json": {
       "model_id": "9f6dbb6f2ec84ed987648a41336bc6b8",
       "version_major": 2,
       "version_minor": 0
      },
      "text/plain": [
       "VBox(children=(FloatSlider(value=0.1), FloatSlider(value=0.2), FloatSlider(value=0.3), Button(description='Sub…"
      ]
     },
     "metadata": {},
     "output_type": "display_data"
    },
    {
     "name": "stdout",
     "output_type": "stream",
     "text": [
      "80.49000000000001\n"
     ]
    }
   ],
   "source": [
    "x=widgets.FloatSlider(value=0.1)\n",
    "y=widgets.FloatSlider(value=0.2)\n",
    "z=widgets.FloatSlider(value=0.3)\n",
    "k=widgets.Button(description='Submit')\n",
    "def eql(self):\n",
    "    print(2*y.value+(8/x.value)+z.value**2)\n",
    "f=widgets.VBox([x,y,z,k])\n",
    "display(f)\n",
    "k.on_click(eql)"
   ]
  },
  {
   "cell_type": "code",
   "execution_count": 50,
   "metadata": {},
   "outputs": [
    {
     "data": {
      "application/vnd.jupyter.widget-view+json": {
       "model_id": "c3b455be66f44173a59b52cc0ee3c915",
       "version_major": 2,
       "version_minor": 0
      },
      "text/plain": [
       "HBox(children=(FloatSlider(value=0.1), FloatSlider(value=0.2), FloatSlider(value=0.3), Button(description='Sub…"
      ]
     },
     "metadata": {},
     "output_type": "display_data"
    },
    {
     "name": "stdout",
     "output_type": "stream",
     "text": [
      "80.49000000000001\n"
     ]
    }
   ],
   "source": [
    "x=widgets.FloatSlider(value=0.1)\n",
    "y=widgets.FloatSlider(value=0.2)\n",
    "z=widgets.FloatSlider(value=0.3)\n",
    "k=widgets.Button(description='Submit')\n",
    "def eql(self):\n",
    "    print(2*y.value+(8/x.value)+z.value**2)\n",
    "f=widgets.HBox([x,y,z,k])\n",
    "display(f)\n",
    "k.on_click(eql)"
   ]
  },
  {
   "cell_type": "code",
   "execution_count": 59,
   "metadata": {},
   "outputs": [
    {
     "data": {
      "application/vnd.jupyter.widget-view+json": {
       "model_id": "6bad8a4a35494a599c2d0a3d05b1d217",
       "version_major": 2,
       "version_minor": 0
      },
      "text/plain": [
       "RadioButtons(description='External Exam Experience', options=('good', 'bad', 'very bad', 'worst'), value='good…"
      ]
     },
     "metadata": {},
     "output_type": "display_data"
    }
   ],
   "source": [
    "o=widgets.RadioButtons(\n",
    "description='External Exam Experience', options=['good','bad','very bad','worst'])\n",
    "display(o)"
   ]
  },
  {
   "cell_type": "code",
   "execution_count": 70,
   "metadata": {},
   "outputs": [
    {
     "data": {
      "application/vnd.jupyter.widget-view+json": {
       "model_id": "63cc0440bdc04a1bb8e50580fdaf4696",
       "version_major": 2,
       "version_minor": 0
      },
      "text/plain": [
       "VBox(children=(HBox(children=(FloatSlider(value=0.0), FloatSlider(value=0.0), RadioButtons(description='Choose…"
      ]
     },
     "metadata": {},
     "output_type": "display_data"
    }
   ],
   "source": [
    "g=widgets.RadioButtons(description=\"Choose:\",options=[\"add\",\"sub\",\"Multiply\"])\n",
    "j=widgets.Button(description=\"Submit\")\n",
    "k=widgets.FloatSlider()\n",
    "s=widgets.FloatSlider()\n",
    "d=widgets.VBox([widgets.HBox([k,s,g]),j])\n",
    "display(d)\n",
    "def seq(self):\n",
    "    if g.value==\"add\":\n",
    "       print(k.value+s.value) \n",
    "    elif g.value==\"sub\":\n",
    "        print(k.value-s.value)\n",
    "    elif g.value==\"Multiply\":\n",
    "        print(k.value*s.value)\n",
    "j.on_click(seq)"
   ]
  },
  {
   "cell_type": "code",
   "execution_count": 78,
   "metadata": {},
   "outputs": [
    {
     "ename": "SyntaxError",
     "evalue": "invalid syntax (<ipython-input-78-4eededdb284e>, line 16)",
     "output_type": "error",
     "traceback": [
      "\u001b[1;36m  File \u001b[1;32m\"<ipython-input-78-4eededdb284e>\"\u001b[1;36m, line \u001b[1;32m16\u001b[0m\n\u001b[1;33m    elif i>12.5 and i<=15:\u001b[0m\n\u001b[1;37m    ^\u001b[0m\n\u001b[1;31mSyntaxError\u001b[0m\u001b[1;31m:\u001b[0m invalid syntax\n"
     ]
    }
   ],
   "source": [
    "I=widgetsFloatText(description='Income')\n",
    "def ii(self):\n",
    "    i=I.value/100000\n",
    "    \n",
    "    if i>=0 and i<=2.5:\n",
    "        z=i*0\n",
    "       \n",
    "    elif i>2.5 and i<=5:\n",
    "         z=(i-2.5*0.05)\n",
    "    elif i>5 and i>=7.5:\n",
    "        z=(i-5)*0.1+(2.5)*0.05\n",
    "    elif i>7.5 and i<=10:\n",
    "        z=(i-7.5)*0.15+(5)*0.1+(2.5*0.05)\n",
    "    elif i>10 and i<=12.5:\n",
    "        z=(i-10*0.2+(7.5)*0.15+(5)*0.1+(2.5*0.05)\n",
    "    elif i>12.5 and i<=15:\n",
    "        z=(i-12.5)*0.25+(10)*0.2+(7.5)*0.15+(5)*0.1+(2.5*0.05)\n",
    "    elif i>15:\n",
    "        z=(i-15)*0.3+(12.5)*0.25+(10)*0.2+(7.5)*0.15+(5)*0.1+(2.5*0.05)\n",
    "    print('Taxamount:'+str(z))\n",
    "h=widgets.Button(Description=\"tax\")\n",
    "display(I)\n",
    "display(h)\n",
    "h.on_click(ii)"
   ]
  },
  {
   "cell_type": "code",
   "execution_count": 74,
   "metadata": {},
   "outputs": [
    {
     "ename": "SyntaxError",
     "evalue": "invalid syntax (<ipython-input-74-6494b6c042c3>, line 3)",
     "output_type": "error",
     "traceback": [
      "\u001b[1;36m  File \u001b[1;32m\"<ipython-input-74-6494b6c042c3>\"\u001b[1;36m, line \u001b[1;32m3\u001b[0m\n\u001b[1;33m    def 11():\u001b[0m\n\u001b[1;37m        ^\u001b[0m\n\u001b[1;31mSyntaxError\u001b[0m\u001b[1;31m:\u001b[0m invalid syntax\n"
     ]
    }
   ],
   "source": [
    "Twidgets.FloatText(description=\"Income\")\n",
    "\n",
    "def 11():\n",
    "\n",
    "ist.value/100000 If 1 and 12.5:\n",
    "\n",
    "elif ix2.5 and icas:\n",
    "\n",
    "2-(1-2.9)*0.05\n",
    "\n",
    "elif 159 and i<=7.5:\n",
    "\n",
    "za(1-5)*0, t+(2.5)0.05\n",
    "\n",
    "elif 17.5 and ica10:\n",
    "\n",
    "2-(1-7.5)*0.15+(5)*0.1+(2.5)*0.05\n",
    "\n",
    "elif 1>10 and 112.5:\n",
    "\n",
    "elif 1512.5 and #15:\n",
    "\n",
    "z=(1-12.5)*8,25+(10)*0.2+(2,5)*0, 15+(5)*0.1+(2,5)*0.05\n",
    "\n",
    "elifor5:\n",
    "\n",
    "(Tax amount (2))"
   ]
  },
  {
   "cell_type": "code",
   "execution_count": null,
   "metadata": {},
   "outputs": [],
   "source": []
  }
 ],
 "metadata": {
  "kernelspec": {
   "display_name": "Python 3",
   "language": "python",
   "name": "python3"
  },
  "language_info": {
   "codemirror_mode": {
    "name": "ipython",
    "version": 3
   },
   "file_extension": ".py",
   "mimetype": "text/x-python",
   "name": "python",
   "nbconvert_exporter": "python",
   "pygments_lexer": "ipython3",
   "version": "3.8.3"
  }
 },
 "nbformat": 4,
 "nbformat_minor": 4
}
