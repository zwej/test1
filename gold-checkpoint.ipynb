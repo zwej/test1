{
 "cells": [
  {
   "cell_type": "code",
   "execution_count": 1,
   "metadata": {},
   "outputs": [],
   "source": [
    "import numpy as np\n",
    "import matplotlib.pyplot as plt\n",
    "import pandas as pd\n"
   ]
  },
  {
   "cell_type": "code",
   "execution_count": 6,
   "metadata": {},
   "outputs": [
    {
     "name": "stdout",
     "output_type": "stream",
     "text": [
      "(5712, 7)\n"
     ]
    }
   ],
   "source": [
    "data_set=pd.read_csv('gold.csv')\n",
    "print(data_set.shape)"
   ]
  },
  {
   "cell_type": "code",
   "execution_count": 17,
   "metadata": {},
   "outputs": [
    {
     "name": "stdout",
     "output_type": "stream",
     "text": [
      "[['2000-01-04' 281.0 281.0 ... 282.7 4 'USD']\n",
      " ['2000-01-05' 283.2 283.2 ... 281.1 16 'USD']\n",
      " ['2000-01-06' 281.4 281.4 ... 281.4 0 'USD']\n",
      " ...\n",
      " ['2022-04-26' 1899.8 1912.2 ... 1904.1 166199 'USD']\n",
      " ['2022-04-27' 1907.6 1907.85 ... 1886.15 0 'USD']\n",
      " ['2022-04-28' 1886.2 1887.1 ... 1886.39 0 'USD']]\n"
     ]
    }
   ],
   "source": [
    "x=data_set.iloc[:,1:4].values\n",
    "print(data_set.values)"
   ]
  },
  {
   "cell_type": "code",
   "execution_count": 19,
   "metadata": {},
   "outputs": [
    {
     "data": {
      "text/plain": [
       "array([[ 281.  ,  281.  ,  281.  ],\n",
       "       [ 283.2 ,  283.2 ,  283.2 ],\n",
       "       [ 281.4 ,  281.4 ,  281.4 ],\n",
       "       ...,\n",
       "       [1899.8 , 1912.2 , 1896.3 ],\n",
       "       [1907.6 , 1907.85, 1881.9 ],\n",
       "       [1886.2 , 1887.1 , 1873.89]])"
      ]
     },
     "execution_count": 19,
     "metadata": {},
     "output_type": "execute_result"
    }
   ],
   "source": [
    "x"
   ]
  },
  {
   "cell_type": "code",
   "execution_count": 21,
   "metadata": {},
   "outputs": [
    {
     "name": "stdout",
     "output_type": "stream",
     "text": [
      "[['04-01-2000' nan 281.0 ... 4 'USD' 282.7]\n",
      " ['05-01-2000' 283.2 283.2 ... 16 'USD' 281.1]\n",
      " ['06-01-2000' 281.4 281.4 ... 0 'USD' 281.4]\n",
      " ...\n",
      " ['26-04-2022' 1899.8 1912.2 ... 166199 'USD' 1904.1]\n",
      " ['27-04-2022' 1907.6 1907.85 ... 0 'USD' 1886.15]\n",
      " ['28-04-2022' 1886.2 1887.1 ... 0 'USD' 1886.39]]\n"
     ]
    }
   ],
   "source": [
    "dataset=pd.read_csv('gold.csv')\n",
    "print(dataset.values)"
   ]
  },
  {
   "cell_type": "code",
   "execution_count": 25,
   "metadata": {},
   "outputs": [
    {
     "name": "stdout",
     "output_type": "stream",
     "text": [
      "[['04-01-2000' nan 281.0 ... 4 'USD' 282.7]\n",
      " ['05-01-2000' 283.2 283.2 ... 16 'USD' 281.1]\n",
      " ['06-01-2000' 281.4 281.4 ... 0 'USD' 281.4]\n",
      " ...\n",
      " ['26-04-2022' 1899.8 1912.2 ... 166199 'USD' 1904.1]\n",
      " ['27-04-2022' 1907.6 1907.85 ... 0 'USD' 1886.15]\n",
      " ['28-04-2022' 1886.2 1887.1 ... 0 'USD' 1886.39]]\n"
     ]
    }
   ],
   "source": [
    "x=data_set.iloc[:,1:4].values\n",
    "print(dataset.values)"
   ]
  },
  {
   "cell_type": "code",
   "execution_count": 26,
   "metadata": {},
   "outputs": [
    {
     "data": {
      "text/plain": [
       "array([[ 281.  ,  281.  ,  281.  ],\n",
       "       [ 283.2 ,  283.2 ,  283.2 ],\n",
       "       [ 281.4 ,  281.4 ,  281.4 ],\n",
       "       ...,\n",
       "       [1899.8 , 1912.2 , 1896.3 ],\n",
       "       [1907.6 , 1907.85, 1881.9 ],\n",
       "       [1886.2 , 1887.1 , 1873.89]])"
      ]
     },
     "execution_count": 26,
     "metadata": {},
     "output_type": "execute_result"
    }
   ],
   "source": [
    "x"
   ]
  },
  {
   "cell_type": "code",
   "execution_count": 35,
   "metadata": {},
   "outputs": [],
   "source": [
    "y=data_set.iloc[:,4]"
   ]
  },
  {
   "cell_type": "code",
   "execution_count": 36,
   "metadata": {},
   "outputs": [
    {
     "data": {
      "text/plain": [
       "0        282.70\n",
       "1        281.10\n",
       "2        281.40\n",
       "3        281.90\n",
       "4        281.70\n",
       "         ...   \n",
       "5707    1934.30\n",
       "5708    1896.00\n",
       "5709    1904.10\n",
       "5710    1886.15\n",
       "5711    1886.39\n",
       "Name: Close, Length: 5712, dtype: float64"
      ]
     },
     "execution_count": 36,
     "metadata": {},
     "output_type": "execute_result"
    }
   ],
   "source": [
    "y"
   ]
  },
  {
   "cell_type": "code",
   "execution_count": 37,
   "metadata": {},
   "outputs": [
    {
     "data": {
      "text/plain": [
       "Date        0\n",
       "Open        4\n",
       "High        3\n",
       "Low         4\n",
       "Volume      0\n",
       "Currency    0\n",
       "Close       0\n",
       "dtype: int64"
      ]
     },
     "execution_count": 37,
     "metadata": {},
     "output_type": "execute_result"
    }
   ],
   "source": [
    "dataset.isnull().sum()"
   ]
  },
  {
   "cell_type": "code",
   "execution_count": 38,
   "metadata": {},
   "outputs": [],
   "source": [
    "dataset['Open'].fillna(value=int(dataset['Open'].mean(skipna=True)), inplace=True)"
   ]
  },
  {
   "cell_type": "code",
   "execution_count": 39,
   "metadata": {},
   "outputs": [],
   "source": [
    "dataset['High'].fillna(value=int(dataset['High'].mean(skipna=True)), inplace=True)"
   ]
  },
  {
   "cell_type": "code",
   "execution_count": 40,
   "metadata": {},
   "outputs": [],
   "source": [
    "dataset['Low'].fillna(value=int(dataset['Low'].mean(skipna=True)), inplace=True)"
   ]
  },
  {
   "cell_type": "code",
   "execution_count": 41,
   "metadata": {},
   "outputs": [
    {
     "data": {
      "text/plain": [
       "Date        0\n",
       "Open        0\n",
       "High        0\n",
       "Low         0\n",
       "Volume      0\n",
       "Currency    0\n",
       "Close       0\n",
       "dtype: int64"
      ]
     },
     "execution_count": 41,
     "metadata": {},
     "output_type": "execute_result"
    }
   ],
   "source": [
    "dataset.isnull().sum()"
   ]
  },
  {
   "cell_type": "code",
   "execution_count": 43,
   "metadata": {},
   "outputs": [],
   "source": [
    "from sklearn.model_selection import train_test_split"
   ]
  },
  {
   "cell_type": "code",
   "execution_count": 44,
   "metadata": {},
   "outputs": [],
   "source": [
    "x_train,x_test,y_train,y_test=train_test_split(x,y,test_size=0.2,random_state=0)"
   ]
  },
  {
   "cell_type": "code",
   "execution_count": 46,
   "metadata": {},
   "outputs": [],
   "source": [
    "from sklearn.preprocessing import StandardScaler"
   ]
  },
  {
   "cell_type": "code",
   "execution_count": 47,
   "metadata": {},
   "outputs": [],
   "source": [
    "st_x=StandardScaler()"
   ]
  },
  {
   "cell_type": "code",
   "execution_count": 48,
   "metadata": {},
   "outputs": [],
   "source": [
    "x_train=st_x.fit_transform(x_train)"
   ]
  },
  {
   "cell_type": "code",
   "execution_count": 49,
   "metadata": {},
   "outputs": [],
   "source": [
    "x_test=st_x.transform(x_test)"
   ]
  },
  {
   "cell_type": "code",
   "execution_count": null,
   "metadata": {},
   "outputs": [],
   "source": []
  }
 ],
 "metadata": {
  "kernelspec": {
   "display_name": "Python 3",
   "language": "python",
   "name": "python3"
  },
  "language_info": {
   "codemirror_mode": {
    "name": "ipython",
    "version": 3
   },
   "file_extension": ".py",
   "mimetype": "text/x-python",
   "name": "python",
   "nbconvert_exporter": "python",
   "pygments_lexer": "ipython3",
   "version": "3.8.3"
  }
 },
 "nbformat": 4,
 "nbformat_minor": 4
}
